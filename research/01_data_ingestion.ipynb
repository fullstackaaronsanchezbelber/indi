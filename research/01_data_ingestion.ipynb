{
 "cells": [
  {
   "cell_type": "code",
   "execution_count": 1,
   "metadata": {},
   "outputs": [],
   "source": [
    "import os"
   ]
  },
  {
   "cell_type": "code",
   "execution_count": 2,
   "metadata": {},
   "outputs": [
    {
     "data": {
      "text/plain": [
       "'c:\\\\Users\\\\Lenovo\\\\Desktop\\\\mlops-youtube\\\\indi\\\\research'"
      ]
     },
     "execution_count": 2,
     "metadata": {},
     "output_type": "execute_result"
    }
   ],
   "source": [
    "%pwd"
   ]
  },
  {
   "cell_type": "code",
   "execution_count": 3,
   "metadata": {},
   "outputs": [],
   "source": [
    "os.chdir('../')"
   ]
  },
  {
   "cell_type": "code",
   "execution_count": 4,
   "metadata": {},
   "outputs": [],
   "source": [
    "from dataclasses import dataclass\n",
    "from pathlib import Path\n",
    "\n",
    "# El decorador @dataclass automáticamente genera métodos especiales como __init__ y __repr__\n",
    "# frozen=True hace que la instancia de la clase sea inmutable, es decir, sus atributos no pueden ser modificados después de la creación.\n",
    "@dataclass(frozen=True)\n",
    "class DataIngestionConfig:\n",
    "    # root_dir: Path - Directorio raíz donde se almacenarán los artefactos de la ingesta de datos\n",
    "    root_dir: Path\n",
    "    \n",
    "    # source_URL: str - URL de la fuente desde donde se descargará el archivo de datos\n",
    "    source_URL: str\n",
    "    \n",
    "    # local_data_file: Path - Ruta local donde se almacenará el archivo de datos descargado\n",
    "    local_data_file: Path\n",
    "    \n",
    "    # unzip_dir: Path - Directorio donde se descomprimirá el archivo de datos\n",
    "    unzip_dir: Path\n"
   ]
  },
  {
   "cell_type": "code",
   "execution_count": 5,
   "metadata": {},
   "outputs": [],
   "source": [
    "from src.indi.constants import *\n",
    "from src.indi.utils.common import read_yaml, create_directories\n"
   ]
  },
  {
   "cell_type": "code",
   "execution_count": 11,
   "metadata": {},
   "outputs": [],
   "source": [
    "# Definición de la clase ConfigurationManager que gestiona la carga de configuraciones, parámetros y esquemas.\n",
    "class ConfigurationManager:\n",
    "    def __init__(\n",
    "        self,\n",
    "        config_filepath = CONFIG_FILE_PATH,\n",
    "        params_filepath = PARAMS_FILE_PATH,\n",
    "        schema_filepath = SCHEMA_FILE_PATH\n",
    "    ):\n",
    "        # El constructor de la clase inicializa las rutas de los archivos de configuración,\n",
    "        # parámetros y esquemas utilizando valores por defecto definidos anteriormente.\n",
    "        \n",
    "        # Lee el archivo de configuración y almacena el contenido en self.config.\n",
    "        self.config = read_yaml(config_filepath)\n",
    "        \n",
    "        # Lee el archivo de parámetros y almacena el contenido en self.params.\n",
    "        self.params = read_yaml(params_filepath)\n",
    "        \n",
    "        # Lee el archivo de esquema y almacena el contenido en self.schema.\n",
    "        self.schema = read_yaml(schema_filepath)\n",
    "        \n",
    "        # Crea los directorios necesarios para almacenar los artefactos, \n",
    "        # utilizando la ruta definida en el archivo de configuración.\n",
    "        create_directories([self.config.artifacts_root])\n",
    "\n",
    "        # Método para obtener la configuración de la ingesta de datos\n",
    "    def get_data_ingestion_config(self) -> DataIngestionConfig:\n",
    "        # Extrae la configuración de ingesta de datos del archivo de configuración principal\n",
    "        config = self.config.data_ingestion\n",
    "\n",
    "        # Crea el directorio raíz de ingesta de datos si no existe\n",
    "        create_directories([config.root_dir])\n",
    "\n",
    "        # Crea una instancia de DataIngestionConfig con los valores extraídos de la configuración\n",
    "        data_ingestion_config = DataIngestionConfig(\n",
    "            root_dir=config.root_dir,\n",
    "            source_URL=config.source_URL,\n",
    "            local_data_file=config.local_data_file,\n",
    "            unzip_dir=config.unzip_dir \n",
    "        )\n",
    "\n",
    "        # Devuelve la instancia de DataIngestionConfig\n",
    "        return data_ingestion_config\n",
    "\n",
    "\n",
    "# Funciones auxiliares utilizadas por ConfigurationManager (no definidas en el código proporcionado):\n",
    "# - read_yaml(filepath): Lee un archivo YAML y devuelve su contenido como un diccionario u objeto.\n",
    "# - create_directories(list_of_directories): Crea los directorios especificados si no existen.\n"
   ]
  },
  {
   "cell_type": "code",
   "execution_count": 8,
   "metadata": {},
   "outputs": [],
   "source": [
    "import os\n",
    "import urllib.request as request\n",
    "import zipfile\n",
    "from indi import logger\n",
    "from indi.utils.common import get_size"
   ]
  },
  {
   "cell_type": "code",
   "execution_count": 9,
   "metadata": {},
   "outputs": [],
   "source": [
    "import os\n",
    "from pathlib import Path\n",
    "from urllib import request\n",
    "from indi import logger\n",
    "\n",
    "class DataIngestion:\n",
    "    def __init__(self, config: DataIngestionConfig):\n",
    "        \"\"\"\n",
    "        Inicializa una instancia de DataIngestion con una configuración específica.\n",
    "\n",
    "        Args:\n",
    "            config (DataIngestionConfig): Objeto de configuración de ingesta de datos.\n",
    "        \"\"\"\n",
    "        self.config = config\n",
    "\n",
    "    def download_file(self):\n",
    "        \"\"\"\n",
    "        Descarga el archivo desde la URL especificada en la configuración.\n",
    "        Solo descarga el archivo si no existe localmente.\n",
    "        \"\"\"\n",
    "        # Verifica si el archivo ya existe localmente\n",
    "        if not os.path.exists(self.config.local_data_file):\n",
    "            # Descarga el archivo desde la URL especificada\n",
    "            filename, headers = request.urlretrieve(\n",
    "                url=self.config.source_URL,\n",
    "                filename=self.config.local_data_file\n",
    "            )\n",
    "            # Registra un mensaje de éxito con información adicional del encabezado de la descarga\n",
    "            logger.info(f\"{filename} descargado con la siguiente información: \\n{headers}\")\n",
    "        else:\n",
    "            # Si el archivo ya existe, registra un mensaje con el tamaño del archivo\n",
    "            logger.info(f\"El archivo ya existe con tamaño: {get_size(Path(self.config.local_data_file))}\")\n",
    "\n",
    "    def extract_zip_file(self):\n",
    "        \"\"\"\n",
    "        Extrae el archivo zip en el directorio de datos especificado en la configuración.\n",
    "        Crea el directorio de destino si no existe.\n",
    "        \"\"\"\n",
    "        # Ruta del directorio donde se descomprimirá el archivo\n",
    "        unzip_path = self.config.unzip_dir\n",
    "        \n",
    "        # Crea el directorio si no existe\n",
    "        os.makedirs(unzip_path, exist_ok=True)\n",
    "        \n",
    "        # Abre el archivo zip y extrae su contenido en el directorio especificado\n",
    "        with zipfile.ZipFile(self.config.local_data_file, 'r') as zip_ref:\n",
    "            zip_ref.extractall(unzip_path)\n",
    "        \n",
    "        # Registro de éxito en la extracción\n",
    "        logger.info(f\"Archivo zip extraído en: {unzip_path}\")\n",
    "\n",
    "# Funciones y clases auxiliares (asumiendo que están definidas en otros lugares del proyecto)\n",
    "# - DataIngestionConfig: Clase de configuración para la ingesta de datos\n",
    "# - get_size(path): Función que obtiene el tamaño del archivo en KB y devuelve una cadena de texto con el tamaño aproximado\n",
    "# - logger: Objeto de registro configurado para la aplicación\n"
   ]
  },
  {
   "cell_type": "code",
   "execution_count": 12,
   "metadata": {},
   "outputs": [
    {
     "name": "stdout",
     "output_type": "stream",
     "text": [
      "[2024-05-18 16:00:49,972:INFO:common:Archivo YAML: config\\config.yaml cargado con éxito]\n",
      "[2024-05-18 16:00:49,974:INFO:common:Archivo YAML: params.yaml cargado con éxito]\n",
      "[2024-05-18 16:00:49,978:INFO:common:Archivo YAML: schema.yaml cargado con éxito]\n",
      "[2024-05-18 16:00:49,981:INFO:common:Directorio creado en: artifacts]\n",
      "[2024-05-18 16:00:49,982:INFO:common:Directorio creado en: artifacts/data_ingestion]\n"
     ]
    },
    {
     "name": "stdout",
     "output_type": "stream",
     "text": [
      "[2024-05-18 16:00:50,786:INFO:3949664249:artifacts/data_ingestion/data.zip descargado con la siguiente información: \n",
      "Connection: close\n",
      "Content-Length: 23329\n",
      "Cache-Control: max-age=300\n",
      "Content-Security-Policy: default-src 'none'; style-src 'unsafe-inline'; sandbox\n",
      "Content-Type: application/zip\n",
      "ETag: \"c69888a4ae59bc5a893392785a938ccd4937981c06ba8a9d6a21aa52b4ab5b6e\"\n",
      "Strict-Transport-Security: max-age=31536000\n",
      "X-Content-Type-Options: nosniff\n",
      "X-Frame-Options: deny\n",
      "X-XSS-Protection: 1; mode=block\n",
      "X-GitHub-Request-Id: 4B12:7BC9:4A67DE:4FA4F3:6648B492\n",
      "Accept-Ranges: bytes\n",
      "Date: Sat, 18 May 2024 14:00:50 GMT\n",
      "Via: 1.1 varnish\n",
      "X-Served-By: cache-mad22041-MAD\n",
      "X-Cache: MISS\n",
      "X-Cache-Hits: 0\n",
      "X-Timer: S1716040850.492978,VS0,VE179\n",
      "Vary: Authorization,Accept-Encoding,Origin\n",
      "Access-Control-Allow-Origin: *\n",
      "Cross-Origin-Resource-Policy: cross-origin\n",
      "X-Fastly-Request-ID: a1c0669e2fe37293f150a4fe9786699b8f6065a8\n",
      "Expires: Sat, 18 May 2024 14:05:50 GMT\n",
      "Source-Age: 0\n",
      "\n",
      "]\n",
      "[2024-05-18 16:00:50,818:INFO:3949664249:Archivo zip extraído en: artifacts/data_ingestion]\n"
     ]
    },
    {
     "ename": "",
     "evalue": "",
     "output_type": "error",
     "traceback": [
      "\u001b[1;31mThe Kernel crashed while executing code in the current cell or a previous cell. \n",
      "\u001b[1;31mPlease review the code in the cell(s) to identify a possible cause of the failure. \n",
      "\u001b[1;31mClick <a href='https://aka.ms/vscodeJupyterKernelCrash'>here</a> for more info. \n",
      "\u001b[1;31mView Jupyter <a href='command:jupyter.viewOutput'>log</a> for further details."
     ]
    }
   ],
   "source": [
    "try:\n",
    "    # Crear una instancia de ConfigurationManager para cargar las configuraciones\n",
    "    config = ConfigurationManager()\n",
    "    \n",
    "    # Obtener la configuración de ingesta de datos\n",
    "    data_ingestion_config = config.get_data_ingestion_config()\n",
    "    \n",
    "    # Crear una instancia de DataIngestion con la configuración obtenida\n",
    "    data_ingestion = DataIngestion(config=data_ingestion_config)\n",
    "    \n",
    "    # Descargar el archivo especificado en la configuración\n",
    "    data_ingestion.download_file()\n",
    "    \n",
    "    # Extraer el archivo zip descargado en el directorio especificado\n",
    "    data_ingestion.extract_zip_file()\n",
    "\n",
    "except Exception as e:\n",
    "    # Si ocurre alguna excepción, la re-lanza después de capturarla\n",
    "    raise e\n"
   ]
  },
  {
   "cell_type": "code",
   "execution_count": null,
   "metadata": {},
   "outputs": [],
   "source": []
  }
 ],
 "metadata": {
  "kernelspec": {
   "display_name": "indi",
   "language": "python",
   "name": "python3"
  },
  "language_info": {
   "codemirror_mode": {
    "name": "ipython",
    "version": 3
   },
   "file_extension": ".py",
   "mimetype": "text/x-python",
   "name": "python",
   "nbconvert_exporter": "python",
   "pygments_lexer": "ipython3",
   "version": "3.11.9"
  }
 },
 "nbformat": 4,
 "nbformat_minor": 2
}
